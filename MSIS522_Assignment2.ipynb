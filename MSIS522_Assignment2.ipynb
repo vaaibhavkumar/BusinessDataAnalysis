{
  "nbformat": 4,
  "nbformat_minor": 0,
  "metadata": {
    "colab": {
      "name": "MSIS522_Assignment2.ipynb",
      "provenance": [],
      "collapsed_sections": [],
      "toc_visible": true,
      "include_colab_link": true
    },
    "kernelspec": {
      "display_name": "Python 3",
      "language": "python",
      "name": "python3"
    },
    "language_info": {
      "codemirror_mode": {
        "name": "ipython",
        "version": 3
      },
      "file_extension": ".py",
      "mimetype": "text/x-python",
      "name": "python",
      "nbconvert_exporter": "python",
      "pygments_lexer": "ipython3",
      "version": "3.7.3"
    }
  },
  "cells": [
    {
      "cell_type": "markdown",
      "metadata": {
        "id": "view-in-github",
        "colab_type": "text"
      },
      "source": [
        "<a href=\"https://colab.research.google.com/github/vaaibhavkumar/BusinessDataAnalysis/blob/master/MSIS522_Assignment2.ipynb\" target=\"_parent\"><img src=\"https://colab.research.google.com/assets/colab-badge.svg\" alt=\"Open In Colab\"/></a>"
      ]
    },
    {
      "cell_type": "markdown",
      "metadata": {
        "colab_type": "text",
        "id": "7bYyOjdzhs1T"
      },
      "source": [
        "# Decision Tree & Ensemble Learning\n",
        "\n",
        "Classification And Regression Trees (CART for short) is a term introduced by [Leo Breiman](https://en.wikipedia.org/wiki/Leo_Breiman) to refer to Decision Tree algorithms that can be used for classification or regression predictive modeling problems.\n",
        "\n",
        "In this lab assignment, you will implement various ways to calculate impurity which is used to split data in constructing the decision trees and apply the Decision Tree and ensemble learning algorithms to solve two real-world problems: a classification one and a regression one. "
      ]
    },
    {
      "cell_type": "code",
      "metadata": {
        "colab_type": "code",
        "id": "WsJh8RbLhs1V",
        "colab": {}
      },
      "source": [
        "# import packages\n",
        "%matplotlib inline\n",
        "import numpy as np\n",
        "import matplotlib.pyplot as plt\n",
        "import seaborn as sns\n",
        "import pandas as pd\n",
        "from matplotlib.legend_handler import HandlerLine2D\n",
        "from sklearn.metrics import accuracy_score\n",
        "from sklearn.metrics import confusion_matrix\n",
        "from sklearn.metrics import mean_squared_error\n",
        "from sklearn.metrics import mean_absolute_error\n",
        "from sklearn.tree import DecisionTreeClassifier\n",
        "from sklearn.tree import DecisionTreeRegressor\n",
        "from sklearn.model_selection import GridSearchCV\n",
        "from sklearn.metrics import roc_auc_score\n",
        "\n",
        "# make this notebook's output stable across runs\n",
        "np.random.seed(0) "
      ],
      "execution_count": 0,
      "outputs": []
    },
    {
      "cell_type": "markdown",
      "metadata": {
        "colab_type": "text",
        "id": "0wdJsuTqhs1a"
      },
      "source": [
        "## Gini impurity and Entropy\n"
      ]
    },
    {
      "cell_type": "markdown",
      "metadata": {
        "colab_type": "text",
        "id": "gzfYaZ-hhs1b"
      },
      "source": [
        "#### Gini impurity\n",
        "\n",
        "The CART algorithm recursively splits the training set into two subsets using a single feature k and a threshold $t_k$. The best feature and threshold are chosen to produce the purest subsets weighted by their size. **Gini impurity** measures the impurity of the data points in a set and is used to evaluate how good a split is when the CART algorithm searches for the best pair of feature and the threshold.\n",
        "\n",
        "To compute Gini impurity for a set of items with J classes, suppose $i \\in \\{1, 2, \\dots, J\\}$ and let $p_i$ be the fraction of items labeled with class i in the set.\n",
        "\\begin{align}\n",
        "I(p) = 1 - \\sum_{i=1}^J p_i^2\n",
        "\\end{align}\n",
        "\n",
        "The following function calculates the gini impurity for a given set of data points."
      ]
    },
    {
      "cell_type": "code",
      "metadata": {
        "colab_type": "code",
        "id": "sNexBvnehs1c",
        "colab": {}
      },
      "source": [
        "def gini_impurity(x):\n",
        "    \"\"\"\n",
        "    This function calculate the Gini impurity for a given set of data points.\n",
        "\n",
        "    Args:\n",
        "    x: a numpy ndarray\n",
        "    \"\"\"\n",
        "    unique, counts = np.unique(x, return_counts=True)\n",
        "    probabilities = counts / sum(counts)\n",
        "    gini = 1 - sum([p*p for p in probabilities])\n",
        "\n",
        "    return gini"
      ],
      "execution_count": 0,
      "outputs": []
    },
    {
      "cell_type": "code",
      "metadata": {
        "colab_type": "code",
        "id": "WmZaWVMxhs1g",
        "colab": {}
      },
      "source": [
        "np.testing.assert_equal(0, gini_impurity(np.array([1, 1, 1])))\n",
        "#np.testing.assert_equal(0.5, gini_impurity(np.array([1, 0, 1, 0])))\n",
        "#np.testing.assert_equal(3/4, gini_impurity(np.array(['a', 'b', 'c', 'd'])))\n",
        "#np.testing.assert_almost_equal(2.0/3, gini_impurity(np.array([1, 2, 3, 1, 2, 3])))"
      ],
      "execution_count": 0,
      "outputs": []
    },
    {
      "cell_type": "code",
      "metadata": {
        "id": "qgujKJbxBZ71",
        "colab_type": "code",
        "colab": {}
      },
      "source": [
        ""
      ],
      "execution_count": 0,
      "outputs": []
    },
    {
      "cell_type": "markdown",
      "metadata": {
        "colab_type": "text",
        "id": "bSsc9tL7hs1k"
      },
      "source": [
        "#### 1. Entropy\n",
        "\n",
        "Another popular measure of impurity is called **entropy**, which measures the average information content of a message. Entropy is zero when all messages are identical. When it applied to CART, a set's entropy is zero when it contains instances of only one class. Entropy is calculated as follows:\n",
        "\\begin{align}\n",
        "I(p) = - \\sum_{i=1}^J p_i log_2{p_i}\n",
        "\\end{align}\n",
        "\n",
        "<span style=\"color:orange\">**Question 1: In this exercise, you will implement the entropy function.**"
      ]
    },
    {
      "cell_type": "code",
      "metadata": {
        "id": "mr9BXYiNBZ79",
        "colab_type": "code",
        "outputId": "aeec0c47-bfe5-4b00-d255-e999760e7789",
        "colab": {
          "base_uri": "https://localhost:8080/",
          "height": 52
        }
      },
      "source": [
        "def test_entropy(x):\n",
        "    import numpy as np\n",
        "    import math                                       # to implement log, imported it\n",
        "    unique, counts = np.unique(x,return_counts=True)\n",
        "    probabilities = counts/sum(counts)\n",
        "    \n",
        "    entropy_elements=[]  # initialized an empty list which will store the x*logx values\n",
        "    for item in probabilities:\n",
        "        log_probability_item = math.log2(item)\n",
        "        entropy_elements.append(item*log_probability_item*-1)\n",
        "        #print(log_probability),    print(entropy_elements),  print(\"Entropy of given data sets = \"+str(sum(entropy_elements) ))\n",
        "    e = sum(entropy_elements)\n",
        "    return e\n",
        "\n",
        "print(test_entropy(['a',2,3,4,5,5])) #2.251629167387823)\n",
        "print(test_entropy(['a','a']))      "
      ],
      "execution_count": 0,
      "outputs": [
        {
          "output_type": "stream",
          "text": [
            "2.251629167387823\n",
            "0.0\n"
          ],
          "name": "stdout"
        }
      ]
    },
    {
      "cell_type": "code",
      "metadata": {
        "id": "xFp411WkCxw1",
        "colab_type": "code",
        "outputId": "4276bda7-2c8a-4a7a-fdf7-8b428472a692",
        "colab": {
          "base_uri": "https://localhost:8080/",
          "height": 52
        }
      },
      "source": [
        "def test_entropy2(x):\n",
        "    import numpy as np\n",
        "    import math                                       # to implement log, imported it\n",
        "    unique, counts = np.unique(x,return_counts=True)\n",
        "    probabilities = counts/sum(counts)\n",
        "    e = (sum(p*abs((math.log2(p))))for p in probabilities) ## This is the same approach as shared in the example above \n",
        "    return e\n",
        "\n",
        "print(test_entropy2(['a',2,3,4,5,5])) #2.251629167387823              # Not sure why result is not getting populated\n",
        "print(test_entropy2(['a','a']) )                                      # Not sure why result is not getting populated "
      ],
      "execution_count": 0,
      "outputs": [
        {
          "output_type": "stream",
          "text": [
            "<generator object test_entropy2.<locals>.<genexpr> at 0x7f739acbcca8>\n",
            "<generator object test_entropy2.<locals>.<genexpr> at 0x7f739acbcca8>\n"
          ],
          "name": "stdout"
        }
      ]
    },
    {
      "cell_type": "code",
      "metadata": {
        "id": "AtXWIbjlBZ8I",
        "colab_type": "code",
        "outputId": "73913a89-3b15-48f5-bb28-f75839500cd4",
        "colab": {
          "base_uri": "https://localhost:8080/",
          "height": 52
        }
      },
      "source": [
        "print(test_entropy(['a',2,3,4,5,5]))    #2.251629167387823\n",
        "print(test_entropy2(['a',2,3,4,5,5]))   #2.251629167387823"
      ],
      "execution_count": 0,
      "outputs": [
        {
          "output_type": "stream",
          "text": [
            "2.251629167387823\n",
            "<generator object test_entropy2.<locals>.<genexpr> at 0x7f73c0957830>\n"
          ],
          "name": "stdout"
        }
      ]
    },
    {
      "cell_type": "code",
      "metadata": {
        "colab_type": "code",
        "id": "Wr8caP2Xhs1l",
        "colab": {}
      },
      "source": [
        "def entropy(x):\n",
        "    \"\"\"\n",
        "    TODO: This function calculate the entropy of an array.\n",
        "    Args:\n",
        "    x: a numpy ndarray\n",
        "    \"\"\"\n",
        "    e = 0 # TODO\n",
        "    import numpy as np\n",
        "    import math                                       # to implement log, imported it\n",
        "    unique, counts = np.unique(x,return_counts=True)\n",
        "    probabilities = counts/sum(counts)\n",
        "\n",
        "    entropy_elements=[]  # initialized an empty list which will store the x*logx values\n",
        "    for item in probabilities:\n",
        "        probability = math.log2(item)\n",
        "        entropy_elements.append(item*probability*-1)\n",
        "        e = sum(entropy_elements)\n",
        "    return e"
      ],
      "execution_count": 0,
      "outputs": []
    },
    {
      "cell_type": "code",
      "metadata": {
        "colab_type": "code",
        "id": "xpOdGMWDhs1p",
        "outputId": "15825555-bdc6-4c45-bcc5-2cf28dace452",
        "colab": {
          "base_uri": "https://localhost:8080/",
          "height": 158
        }
      },
      "source": [
        "np.testing.assert_equal(0, entropy(np.array([1, 1, 1])))\n",
        "np.testing.assert_equal(1.0, entropy(np.array([1, 0, 1, 0])))\n",
        "np.testing.assert_equal(2.0, entropy(np.array(['a', 'b', 'c', 'd'])))\n",
        "np.testing.assert_almost_equal(1.58496, entropy(np.array([1, 2, 3, 1, 2, 3])), 4)\n",
        "print (\"\\n\\nPrinting the values\\n\")\n",
        "print(np.testing.assert_equal(0, entropy(np.array([1, 1, 1]))))\n",
        "print(np.testing.assert_equal(1.0, entropy(np.array([1, 0, 1, 0]))))\n",
        "print(np.testing.assert_equal(2.0, entropy(np.array(['a', 'b', 'c', 'd']))))\n",
        "print(np.testing.assert_almost_equal(1.58496, entropy(np.array([1, 2, 3, 1, 2, 3])), 4))"
      ],
      "execution_count": 0,
      "outputs": [
        {
          "output_type": "stream",
          "text": [
            "\n",
            "\n",
            "Printing the values\n",
            "\n",
            "None\n",
            "None\n",
            "None\n",
            "None\n"
          ],
          "name": "stdout"
        }
      ]
    },
    {
      "cell_type": "markdown",
      "metadata": {
        "colab_type": "text",
        "id": "4qX1XT12hs1t"
      },
      "source": [
        "---"
      ]
    },
    {
      "cell_type": "markdown",
      "metadata": {
        "colab_type": "text",
        "id": "EZGblkNkhs2g"
      },
      "source": [
        "## Iris dataset\n",
        "\n",
        "The Iris data set contains the morphologic variation of Iris flowers of three related species (Iris setosa, Iris virginica and Iris versicolor). Four features were measured from each observation (see image below):\n",
        "- Sepal.Length: sepal length in centimeters.\n",
        "- Sepal.Width: sepal width in centimeters.\n",
        "- Petal.Length: petal length in centimeters.\n",
        "- Petal.Width: petal width in centimeters.\n",
        "\n",
        "<table>\n",
        "  <tr>\n",
        "    <td><img src=\"https://upload.wikimedia.org/wikipedia/commons/thumb/5/56/Kosaciec_szczecinkowaty_Iris_setosa.jpg/180px-Kosaciec_szczecinkowaty_Iris_setosa.jpg\" style=\"width:250px\"></td>\n",
        "    <td><img src=\"https://www.math.umd.edu/~petersd/666/html/iris_with_labels.jpg\" width=\"250px\"></td>\n",
        "    <td><img src=\"https://upload.wikimedia.org/wikipedia/commons/thumb/9/9f/Iris_virginica.jpg/295px-Iris_virginica.jpg\" width=\"250px\"></td>\n",
        "  </tr>\n",
        "  <tr>\n",
        "    <td>Iris setosa</td>\n",
        "    <td>Iris versicolor</td>\n",
        "    <td>Iris virginica</td>\n",
        "  </tr>\n",
        "</table>\n"
      ]
    },
    {
      "cell_type": "code",
      "metadata": {
        "colab_type": "code",
        "id": "8BfuNcWVhs2h",
        "outputId": "cf39157f-4dc3-458b-fe8b-a7e87f38725e",
        "colab": {
          "base_uri": "https://localhost:8080/",
          "height": 158
        }
      },
      "source": [
        "# load the iris train and test data from CSV files\n",
        "train = pd.read_csv('https://raw.githubusercontent.com/zariable/data/master/iris_train.csv')\n",
        "test = pd.read_csv('https://raw.githubusercontent.com/zariable/data/master/iris_test.csv')\n",
        "\n",
        "train_x = train.iloc[:,0:4]\n",
        "train_y = train.iloc[:,4]\n",
        "\n",
        "test_x = test.iloc[:,0:4]\n",
        "test_y = test.iloc[:,4]\n",
        "\n",
        "# print the number of instances in each class\n",
        "print(train_y.value_counts().sort_index())\n",
        "print(test_y.value_counts().sort_index())"
      ],
      "execution_count": 0,
      "outputs": [
        {
          "output_type": "stream",
          "text": [
            "Iris-setosa        34\n",
            "Iris-versicolor    32\n",
            "Iris-virginica     39\n",
            "Name: species, dtype: int64\n",
            "Iris-setosa        16\n",
            "Iris-versicolor    18\n",
            "Iris-virginica     11\n",
            "Name: species, dtype: int64\n"
          ],
          "name": "stdout"
        }
      ]
    },
    {
      "cell_type": "markdown",
      "metadata": {
        "colab_type": "text",
        "id": "tpe8jv7Qhs2f"
      },
      "source": [
        "### Decision Tree Classifier\n",
        "\n",
        "<span style=\"color:orange\">**In this exercise, we will apply the Decision Tree classifier to classify the Iris flower data.**"
      ]
    },
    {
      "cell_type": "markdown",
      "metadata": {
        "colab_type": "text",
        "id": "8JwQoOdPhs2j"
      },
      "source": [
        "#### 2.Train and visualize a simple Decision Tree\n",
        "\n",
        "<span style=\"color:orange\">**Question 2: create a decision tree with max_depth of 2.**"
      ]
    },
    {
      "cell_type": "code",
      "metadata": {
        "id": "CZoMEd02rSnU",
        "colab_type": "code",
        "outputId": "9109765c-6bd5-4ef7-ae5e-f34ebc9cd353",
        "colab": {
          "base_uri": "https://localhost:8080/",
          "height": 435
        }
      },
      "source": [
        "dt_model1 = DecisionTreeClassifier(max_depth=2)\n",
        "dt_model1.fit(train_x, train_y)\n",
        "from sklearn.externals.six import StringIO  \n",
        "from IPython.display import Image  \n",
        "from sklearn.tree import export_graphviz\n",
        "import pydotplus\n",
        "\n",
        "dot_data = StringIO()\n",
        "feature_names = train_x.columns\n",
        "class_names = train_y.unique()\n",
        "class_names.sort()\n",
        "export_graphviz(dt_model1, out_file=dot_data, feature_names=feature_names, class_names=class_names, filled=True, rounded=True)\n",
        "graph = pydotplus.graph_from_dot_data(dot_data.getvalue())  \n",
        "Image(graph.create_png())"
      ],
      "execution_count": 0,
      "outputs": [
        {
          "output_type": "execute_result",
          "data": {
            "image/png": "[encoded data removed]",
            "text/plain": [
              "<IPython.core.display.Image object>"
            ]
          },
          "metadata": {
            "tags": []
          },
          "execution_count": 18
        }
      ]
    },
    {
      "cell_type": "code",
      "metadata": {
        "colab_type": "code",
        "id": "kQzTTFGlhs2k",
        "scrolled": true,
        "outputId": "e1481bef-8b58-44b8-df80-0df755aaa207",
        "colab": {
          "base_uri": "https://localhost:8080/",
          "height": 123
        }
      },
      "source": [
        "# TODO: read the scikit-learn doc on DecisionTreeClassifier and train a Decision Tree with max depth of 2\n",
        "# source: https://scikit-learn.org/stable/modules/generated/sklearn.tree.DecisionTreeClassifier.html\n",
        "\n",
        "'''parameters= {\n",
        "    #\"criterion\":\"gini\",\n",
        "    #\"splitter\": \"random\",\n",
        "    \"max_depth\":[2]    #The maximum depth of the tree. \n",
        "    #,\"min_samples_split\": [2] #The minimum number of samples required to split an internal node:\n",
        "}\n",
        "'''\n"
      ],
      "execution_count": 0,
      "outputs": [
        {
          "output_type": "execute_result",
          "data": {
            "text/plain": [
              "DecisionTreeClassifier(ccp_alpha=0.0, class_weight=None, criterion='gini',\n",
              "                       max_depth=2, max_features=None, max_leaf_nodes=None,\n",
              "                       min_impurity_decrease=0.0, min_impurity_split=None,\n",
              "                       min_samples_leaf=1, min_samples_split=2,\n",
              "                       min_weight_fraction_leaf=0.0, presort='deprecated',\n",
              "                       random_state=None, splitter='best')"
            ]
          },
          "metadata": {
            "tags": []
          },
          "execution_count": 10
        }
      ]
    },
    {
      "cell_type": "markdown",
      "metadata": {
        "colab_type": "text",
        "id": "Tn25MVpchs2n"
      },
      "source": [
        "Now let's visualize the decision tree we just trained on the iris dataset and see how it makes predictions. Note that if the following code does not work for you because the graphviz is missing, do not worry about it and you should still be able to move on."
      ]
    },
    {
      "cell_type": "code",
      "metadata": {
        "colab_type": "code",
        "id": "Y80Nilx1hs2o",
        "scrolled": true,
        "outputId": "ff649141-a96c-4b1c-a85e-9842bcb6ad2f",
        "colab": {
          "base_uri": "https://localhost:8080/",
          "height": 435
        }
      },
      "source": [
        "dt_model2 = DecisionTreeClassifier(max_depth=2,min_samples_split=2) ## Making changes and checking\n",
        "dt_model2.fit(train_x, train_y)\n",
        "\n",
        "dot_data = StringIO()\n",
        "feature_names = train_x.columns\n",
        "class_names = train_y.unique()\n",
        "class_names.sort()\n",
        "export_graphviz(dt_model2, out_file=dot_data, feature_names=feature_names, class_names=class_names, filled=True, rounded=True)\n",
        "graph = pydotplus.graph_from_dot_data(dot_data.getvalue())  \n",
        "Image(graph.create_png())"
      ],
      "execution_count": 0,
      "outputs": [
        {
          "output_type": "execute_result",
          "data": {
            "image/png": "[encoded data removed]",
            "text/plain": [
              "<IPython.core.display.Image object>"
            ]
          },
          "metadata": {
            "tags": []
          },
          "execution_count": 19
        }
      ]
    },
    {
      "cell_type": "markdown",
      "metadata": {
        "colab_type": "text",
        "id": "ZgqeLw6Lhs2t"
      },
      "source": [
        "Decision trees are easy to inteprete and is often referred to as *whitebox* machine learning algorithm. Let's see how this decision tree represented above makes predictions. Suppose you find an iris flower and want to classify it into setosa, versicolor or virginica. You start at the root node (the very top node in the tree). In this node, we check if the flower's patel length is smaller than or equal to 2.35 cm. If it is, we move to the left child and predict setosa to be its class. Otherwise, we move to the right child node. Then similarly we check if the petal length is smaller than or equal to 4.95 cm. If it is, we move to its left child node and predict versicolor to be its class. Otherwise, we move to its right child and predict virginica to be its class. "
      ]
    },
    {
      "cell_type": "markdown",
      "metadata": {
        "colab_type": "text",
        "id": "W94pWMvIhs2t"
      },
      "source": [
        "#### 3.Prediction with Decision tree\n",
        "\n",
        "With this simple decision tree above, we can apply it to make predictions on the test dataset and evaluate its performance.\n",
        "\n",
        "<span style=\"color:orange\">**Question 3: make prediction using the trained decision tree model on the test data.**"
      ]
    },
    {
      "cell_type": "code",
      "metadata": {
        "colab_type": "code",
        "id": "ugRPudSThs2u",
        "outputId": "2c3c51d6-992b-4881-b0de-c0def54f9ff3",
        "colab": {
          "base_uri": "https://localhost:8080/",
          "height": 158
        }
      },
      "source": [
        "# TODO: use the trained decision tree model to make predictions on the test data and evaluate the model performance.\n",
        "## Steps\n",
        "## 1: Now feed the test_data to the model. The prediction shall happen on test data based on th etraining which happened in the pevious step\n",
        "## 2: Then the numbers shall be validated against the actual value\n",
        "## 3: Then the accuracy of the model shall be evaluated\n",
        "\n",
        "## 1: Now feed the test_data to the model. The prediction shall happen on test data based on th etraining which happened in the pevious step\n",
        "train_z = dt_model.predict(train_x)\n",
        "train_z_prob = dt_model.predict_proba(train_x)[:,1]\n",
        "test_z = dt_model.predict(test_x)\n",
        "test_z_prob = dt_model.predict_proba(test_x)[:,1]\n",
        "\n",
        "print(\"model accuracy: {}\".format(accuracy_score(test_y, test_z)))\n",
        "print(\"model confusion matrix:\\n {}\".format(confusion_matrix(test_y, test_z, labels=['Iris-setosa', 'Iris-versicolor', 'Iris-virginica'])))\n",
        "'''----------------'''\n",
        "print(\"Decision Tree model accuracy on train set: {}\".format(accuracy_score(train_y, train_z)))\n",
        "print(\"Decision Tree model accuracy on test set: {}\".format(accuracy_score(test_y, test_z)))\n",
        "'''------------------'''\n",
        "# print(\"model ROC AUC on train set: {}\".format(roc_auc_score(train_y, train_z_prob))) \n",
        "# print(\"model ROC AUC on test set: {}\".format(roc_auc_score(test_y, test_z_prob)))\n",
        "# Unable to understand the reason for the failure. ValueError: multi_class must be in ('ovo', 'ovr')"
      ],
      "execution_count": 0,
      "outputs": [
        {
          "output_type": "stream",
          "text": [
            "model accuracy: 0.9111111111111111\n",
            "model confusion matrix:\n",
            " [[16  0  0]\n",
            " [ 0 17  1]\n",
            " [ 0  3  8]]\n",
            "Decision Tree model accuracy on train set: 0.9619047619047619\n",
            "Decision Tree model accuracy on test set: 0.9111111111111111\n"
          ],
          "name": "stdout"
        },
        {
          "output_type": "execute_result",
          "data": {
            "text/plain": [
              "'------------------'"
            ]
          },
          "metadata": {
            "tags": []
          },
          "execution_count": 12
        }
      ]
    },
    {
      "cell_type": "markdown",
      "metadata": {
        "colab_type": "text",
        "id": "RMzcZjQQhs2x"
      },
      "source": [
        "#### 4.Hyper-parameters\n",
        "\n",
        "Hyper-parameter controls the complexity of the decision tree model. For example, the deeper the tree is, the more complex patterns the model will be able to capture. In this exercise, we train the decision trees with increasing number of maximum depth and plot its performance. We should see the accuracy of the training data increase as the tree grows deeper, but the accuracy on the test data might not as the model will eventually start to overfit and does not generalize well on the unseen test data.\n",
        "\n",
        "<span style=\"color:orange\">**Question 4: for each value of max_depth, we train a decision tree model and evaluate its accuracy on both train and test data, and plot both accuracies in the figure.**"
      ]
    },
    {
      "cell_type": "code",
      "metadata": {
        "colab_type": "code",
        "id": "uw23r_MXhs2x",
        "outputId": "53072692-c4bc-41e1-adec-56b48ec3c960",
        "colab": {
          "base_uri": "https://localhost:8080/",
          "height": 331
        }
      },
      "source": [
        "# TODO: train the decision tree model with various max_depth, make predictions and evaluate on both train and test data.\n",
        "# the different values that shall be taken for the depth will be 2,3,4\n",
        "max_depth = [1,2,3,4,5,6]\n",
        "accuracy_seen = []\n",
        "parameters = {\n",
        "    \"max_depth\": max_depth\n",
        "    #,\"min_samples_split\": min_samples_split\n",
        "}\n",
        "for depths in max_depth:\n",
        "    # train the model with max_depth =2 print(depths,\",\", type(depths))\n",
        "    dt_model = DecisionTreeClassifier(max_depth=depths,min_samples_split=2)\n",
        "    dt_model.fit(train_x, train_y)\n",
        "\n",
        "    train_z = dt_model.predict(train_x)\n",
        "    train_z_prob = dt_model.predict_proba(train_x)[:,1]\n",
        "    test_z = dt_model.predict(test_x)\n",
        "    test_z_prob = dt_model.predict_proba(test_x)[:,1]\n",
        "    \n",
        "    accuracy_seen.append(accuracy_score(test_y, test_z)) # storing values in a list to plot the values \n",
        "\n",
        "## doubt: unable to annotate, annot = True is failing here \n",
        "print(accuracy_seen)\n",
        "plt.bar(max_depth,accuracy_seen,width=0.6) \n",
        "plt.title(\"accuracy_score over max_depth \")\n",
        "plt.xlabel(\"max_depth\")\n",
        "plt.ylabel(\"accuracy_score in %\")\n",
        "plt.plot(max_depth,accuracy_seen)"
      ],
      "execution_count": 0,
      "outputs": [
        {
          "output_type": "stream",
          "text": [
            "[0.6, 0.9111111111111111, 0.9777777777777777, 0.9777777777777777, 0.9777777777777777, 0.9777777777777777]\n"
          ],
          "name": "stdout"
        },
        {
          "output_type": "execute_result",
          "data": {
            "text/plain": [
              "[<matplotlib.lines.Line2D at 0x7f7398eab0b8>]"
            ]
          },
          "metadata": {
            "tags": []
          },
          "execution_count": 13
        },
        {
          "output_type": "display_data",
          "data": {
            "image/png": "[encoded data removed]",
            "text/plain": [
              "<Figure size 432x288 with 1 Axes>"
            ]
          },
          "metadata": {
            "tags": []
          }
        }
      ]
    },
    {
      "cell_type": "markdown",
      "metadata": {
        "id": "iuxcRRRRK3g2",
        "colab_type": "text"
      },
      "source": [
        "###### Inference: The visuals above shows that the valueof accruacy peaks at 97.77% of accurancy, which is achieved with max_depth =2 and further change in value of ma_depth do not have any impact on the accuracy "
      ]
    },
    {
      "cell_type": "markdown",
      "metadata": {
        "colab_type": "text",
        "id": "2iaLr1ufhs20"
      },
      "source": [
        "#### 5.Fine-tune the decision tree classifier\n",
        "\n",
        "Decision tree is a very powerful model with very few assumptions about the incoming training data (unlike linear models, which assume the data linear), however, it is more likely to overfit the data and won't generalize well to unseen data. To void overfitting, we need to restrict the decision tree's freedom during training via regularization (e.g. max_depth, min_sample_split, max_leaf_nodes and etc.).\n",
        "\n",
        "To fine-tune the model and combat overfitting, use grid search with cross-validation (with the help of the GridSearchCV class) to find the best hyper-parameter settings for the DecisionTreeClassifier. In particular, we would like to fine-tune the following hyper-parameters:\n",
        "- **criteria**: this defines how we measure the quality of a split. we can choose either \"gini\" for the Gini impurity or \"entropy\" for the information gain.\n",
        "- **max_depth**: the maximum depth of the tree. This indicates how deep the tree can be. The deeper the tree, the more splits it has and it captures more information about the data. But meanwhile, deeper trees are more likely to overfit the data. For this practice, we will choose from {1, 2, 3} given there are only 4 features in the iris dataset.\n",
        "- **min_samples_split**: This value represents the minimum number of samples required to split an internal node. The smaller this value is, the deeper the tree will grow, thus more likely to overfit. On the other hand, if the value is really large (the size of the training data in the extreme case), the tree will be very shallow and could suffer from underfit. In this practice, we choose from {0.01, 0.05, 0.1, 0.2}.\n",
        "\n",
        "<span style=\"color:orange\">**Question 5: Use grid search with 3-fold cross-validation to fine-tune the decision tree model and output the best hyper-parameters.**"
      ]
    },
    {
      "cell_type": "code",
      "metadata": {
        "colab_type": "code",
        "id": "9fuI5TWkhs21",
        "outputId": "ddaf3f9a-e7f0-4aef-cc08-e44ad14a373f",
        "colab": {
          "base_uri": "https://localhost:8080/",
          "height": 52
        }
      },
      "source": [
        "# TODO: fine-tune the model, use grid search with 3-fold cross-validation.\n",
        "## Step 1 In the parameter dictionary, the different set of values were set.\n",
        "## the result of the previous exercise was 97.77 % accuracy. \n",
        "## Let us see if changing the other parametrs can help us exceed that\n",
        "#\"criterion\": ['gini','entropy'],\n",
        "parameters = {\n",
        "    #\"criteria\": ['gini','entropy'],\n",
        "    \"criterion\": ['gini','entropy'],\n",
        "    \"max_depth\": [1,2,3,4], \n",
        "    \"min_samples_split\": [0.005,0.010,0.050, 0.100, 0.150, 0.200, 0.250]\n",
        "}\n",
        "dtc = DecisionTreeClassifier()   # dt here is the instance of the class DecisionTreeClassifier\n",
        "dtc_grid = GridSearchCV(dtc,parameters, cv=3)           # TODO\n",
        "#print(grid)\n",
        "dtc_grid.fit(train_x, train_y)\n",
        "# summarize the results of the grid search\n",
        "print(\"The best score is {}\".format(dtc_grid.best_score_)) #0.9619047619047619\n",
        "print(\"The best hyper parameter setting is {}\".format(dtc_grid.best_params_))"
      ],
      "execution_count": 0,
      "outputs": [
        {
          "output_type": "stream",
          "text": [
            "The best score is 0.9619047619047619\n",
            "The best hyper parameter setting is {'criterion': 'gini', 'max_depth': 3, 'min_samples_split': 0.005}\n"
          ],
          "name": "stdout"
        }
      ]
    },
    {
      "cell_type": "markdown",
      "metadata": {
        "colab_type": "text",
        "id": "ZXeHA4TThs24"
      },
      "source": [
        "#### Prediction and Evaluation\n",
        "\n",
        "Now we have a fine-tuned decision tree classifier based on the training data, let's apply this model to make predictions on the test data and evaluate its performance."
      ]
    },
    {
      "cell_type": "code",
      "metadata": {
        "colab_type": "code",
        "id": "pzGEUWFPhs24",
        "outputId": "a7142b4a-f338-4edb-dca5-1c5a2416856d",
        "colab": {
          "base_uri": "https://localhost:8080/",
          "height": 105
        }
      },
      "source": [
        "dtc_grid.predict(test_x) ## using the instance of the GridSearchCV grid\n",
        "test_z = dtc_grid.predict(test_x)\n",
        "test_z_prob = dtc_grid.predict_proba(test_x)[:,1]\n",
        "\n",
        "print(\"model accuracy: {}\".format(accuracy_score(test_y, test_z))) #0.9777777777777777\n",
        "print(\"model confusion matrix:\\n {}\".format(confusion_matrix(test_y, test_z, labels=['Iris-setosa', 'Iris-versicolor', 'Iris-virginica'])))\n",
        "\n",
        "#print(\"model accuracy: {}\".format(accuracy_score(test_y, test_z)))\n",
        "#print(\"model ROC AUC: {}\".format(roc_auc_score(test_y, test_z_prob)))"
      ],
      "execution_count": 0,
      "outputs": [
        {
          "output_type": "stream",
          "text": [
            "model accuracy: 0.9777777777777777\n",
            "model confusion matrix:\n",
            " [[16  0  0]\n",
            " [ 0 17  1]\n",
            " [ 0  0 11]]\n"
          ],
          "name": "stdout"
        }
      ]
    },
    {
      "cell_type": "markdown",
      "metadata": {
        "colab_type": "text",
        "id": "fLrLCXpbIHI2"
      },
      "source": [
        "## 6. Random Forest\n",
        "\n",
        "**Question 6: Apply Random Forest together with Gridsearch to the Iris dataset and evaluate its accuracy.**"
      ]
    },
    {
      "cell_type": "code",
      "metadata": {
        "colab_type": "code",
        "id": "UTzDdKnoIDM1",
        "outputId": "5bc6cee0-1ac0-4139-b4cc-3fb18640aa87",
        "colab": {
          "base_uri": "https://localhost:8080/",
          "height": 141
        }
      },
      "source": [
        "### TODO \n",
        "#1 Call the class / namespace that implement's scikit learn's RandomForst\n",
        "from sklearn.ensemble import RandomForestClassifier\n",
        "rfc_parameters= {\n",
        "    \"criterion\": ['gini','entropy'],\n",
        "    \"n_estimators\": [5,10,15,20,25,30,40,50,75,100], \n",
        "    \"random_state\": [0,1]\n",
        "}\n",
        "#Now create an instance of the class RandomForestClassifier\n",
        "rfc =  RandomForestClassifier() #n_estimators=100,criterion=\"entropy\" ,random_state=)\n",
        "rfc_grid = GridSearchCV(rfc,rfc_parameters,cv=3)\n",
        "rfc_grid.fit(train_x, train_y)\n",
        "\n",
        "# summarize the results of the grid search\n",
        "print(\"The best score is {}\".format(rfc_grid.best_score_))\n",
        "print(\"The best hyper parameter setting is {}\".format(rfc_grid.best_params_))\n",
        "\n",
        "\n",
        "# Checking the performance on the Test dataset \n",
        "rfc_grid.predict(test_x) ## using the instance of the GridSearchCV grid\n",
        "rfc_test_z = rfc_grid.predict(test_x)\n",
        "rfc_test_z_prob = rfc_grid.predict_proba(test_x)[:,1]\n",
        "\n",
        "print(\"Random Forest model accuracy: {}\".format(accuracy_score(test_y, rfc_test_z))) #0.9619047619047619\n",
        "print(\"Random Forest model confusion matrix:\\n {}\".format(confusion_matrix(test_y, rfc_test_z, labels=['Iris-setosa', 'Iris-versicolor', 'Iris-virginica'])))\n",
        "\n",
        "#print(\"If this message came,no error came :) \")"
      ],
      "execution_count": 0,
      "outputs": [
        {
          "output_type": "stream",
          "text": [
            "The best score is 0.9619047619047619\n",
            "The best hyper parameter setting is {'criterion': 'gini', 'n_estimators': 20, 'random_state': 0}\n",
            "Random Forest model accuracy: 0.9777777777777777\n",
            "Random Forest model confusion matrix:\n",
            " [[16  0  0]\n",
            " [ 0 17  1]\n",
            " [ 0  0 11]]\n"
          ],
          "name": "stdout"
        }
      ]
    },
    {
      "cell_type": "code",
      "metadata": {
        "id": "3YZWi_z8Yj-0",
        "colab_type": "code",
        "outputId": "d7cc6e20-0931-41fa-9c67-452a83cc4d55",
        "colab": {
          "base_uri": "https://localhost:8080/",
          "height": 387
        }
      },
      "source": [
        "test_z = rfc_grid.predict(test_x)\n",
        "test_z_prob = rfc_grid.predict_proba(test_x)[:,1] \n",
        "\n",
        "rfc_grid.predict_proba(test_x)\n",
        "\n",
        "#roc_auc_score (test_y, rfc_test_z)\n",
        "#print(\"Random Forest model accuracy AUC : {}\".format(roc_auc_score (test_y, rfc_test_z))) \n",
        "# Error message: could not convert string to float: 'Iris-virginica'\n",
        "# Probable cause: seems header is getting passed in the data in test_y\n",
        "# Seems one hot encoding may be needed"
      ],
      "execution_count": 0,
      "outputs": [
        {
          "output_type": "error",
          "ename": "ValueError",
          "evalue": "ignored",
          "traceback": [
            "\u001b[0;31m---------------------------------------------------------------------------\u001b[0m",
            "\u001b[0;31mValueError\u001b[0m                                Traceback (most recent call last)",
            "\u001b[0;32m<ipython-input-17-92addd956c81>\u001b[0m in \u001b[0;36m<module>\u001b[0;34m()\u001b[0m\n\u001b[1;32m      4\u001b[0m \u001b[0mrfc_grid\u001b[0m\u001b[0;34m.\u001b[0m\u001b[0mpredict_proba\u001b[0m\u001b[0;34m(\u001b[0m\u001b[0mtest_x\u001b[0m\u001b[0;34m)\u001b[0m\u001b[0;34m\u001b[0m\u001b[0;34m\u001b[0m\u001b[0m\n\u001b[1;32m      5\u001b[0m \u001b[0;34m\u001b[0m\u001b[0m\n\u001b[0;32m----> 6\u001b[0;31m \u001b[0mroc_auc_score\u001b[0m \u001b[0;34m(\u001b[0m\u001b[0mtest_y\u001b[0m\u001b[0;34m,\u001b[0m \u001b[0mrfc_test_z\u001b[0m\u001b[0;34m)\u001b[0m\u001b[0;34m\u001b[0m\u001b[0;34m\u001b[0m\u001b[0m\n\u001b[0m\u001b[1;32m      7\u001b[0m \u001b[0;31m#print(\"Random Forest model accuracy AUC : {}\".format(roc_auc_score (test_y, rfc_test_z)))\u001b[0m\u001b[0;34m\u001b[0m\u001b[0;34m\u001b[0m\u001b[0;34m\u001b[0m\u001b[0m\n\u001b[1;32m      8\u001b[0m \u001b[0;31m# Error message: could not convert string to float: 'Iris-virginica'\u001b[0m\u001b[0;34m\u001b[0m\u001b[0;34m\u001b[0m\u001b[0;34m\u001b[0m\u001b[0m\n",
            "\u001b[0;32m/usr/local/lib/python3.6/dist-packages/sklearn/metrics/_ranking.py\u001b[0m in \u001b[0;36mroc_auc_score\u001b[0;34m(y_true, y_score, average, sample_weight, max_fpr, multi_class, labels)\u001b[0m\n\u001b[1;32m    367\u001b[0m     \u001b[0my_type\u001b[0m \u001b[0;34m=\u001b[0m \u001b[0mtype_of_target\u001b[0m\u001b[0;34m(\u001b[0m\u001b[0my_true\u001b[0m\u001b[0;34m)\u001b[0m\u001b[0;34m\u001b[0m\u001b[0;34m\u001b[0m\u001b[0m\n\u001b[1;32m    368\u001b[0m     \u001b[0my_true\u001b[0m \u001b[0;34m=\u001b[0m \u001b[0mcheck_array\u001b[0m\u001b[0;34m(\u001b[0m\u001b[0my_true\u001b[0m\u001b[0;34m,\u001b[0m \u001b[0mensure_2d\u001b[0m\u001b[0;34m=\u001b[0m\u001b[0;32mFalse\u001b[0m\u001b[0;34m,\u001b[0m \u001b[0mdtype\u001b[0m\u001b[0;34m=\u001b[0m\u001b[0;32mNone\u001b[0m\u001b[0;34m)\u001b[0m\u001b[0;34m\u001b[0m\u001b[0;34m\u001b[0m\u001b[0m\n\u001b[0;32m--> 369\u001b[0;31m     \u001b[0my_score\u001b[0m \u001b[0;34m=\u001b[0m \u001b[0mcheck_array\u001b[0m\u001b[0;34m(\u001b[0m\u001b[0my_score\u001b[0m\u001b[0;34m,\u001b[0m \u001b[0mensure_2d\u001b[0m\u001b[0;34m=\u001b[0m\u001b[0;32mFalse\u001b[0m\u001b[0;34m)\u001b[0m\u001b[0;34m\u001b[0m\u001b[0;34m\u001b[0m\u001b[0m\n\u001b[0m\u001b[1;32m    370\u001b[0m \u001b[0;34m\u001b[0m\u001b[0m\n\u001b[1;32m    371\u001b[0m     if y_type == \"multiclass\" or (y_type == \"binary\" and\n",
            "\u001b[0;32m/usr/local/lib/python3.6/dist-packages/sklearn/utils/validation.py\u001b[0m in \u001b[0;36mcheck_array\u001b[0;34m(array, accept_sparse, accept_large_sparse, dtype, order, copy, force_all_finite, ensure_2d, allow_nd, ensure_min_samples, ensure_min_features, warn_on_dtype, estimator)\u001b[0m\n\u001b[1;32m    529\u001b[0m                     \u001b[0marray\u001b[0m \u001b[0;34m=\u001b[0m \u001b[0marray\u001b[0m\u001b[0;34m.\u001b[0m\u001b[0mastype\u001b[0m\u001b[0;34m(\u001b[0m\u001b[0mdtype\u001b[0m\u001b[0;34m,\u001b[0m \u001b[0mcasting\u001b[0m\u001b[0;34m=\u001b[0m\u001b[0;34m\"unsafe\"\u001b[0m\u001b[0;34m,\u001b[0m \u001b[0mcopy\u001b[0m\u001b[0;34m=\u001b[0m\u001b[0;32mFalse\u001b[0m\u001b[0;34m)\u001b[0m\u001b[0;34m\u001b[0m\u001b[0;34m\u001b[0m\u001b[0m\n\u001b[1;32m    530\u001b[0m                 \u001b[0;32melse\u001b[0m\u001b[0;34m:\u001b[0m\u001b[0;34m\u001b[0m\u001b[0;34m\u001b[0m\u001b[0m\n\u001b[0;32m--> 531\u001b[0;31m                     \u001b[0marray\u001b[0m \u001b[0;34m=\u001b[0m \u001b[0mnp\u001b[0m\u001b[0;34m.\u001b[0m\u001b[0masarray\u001b[0m\u001b[0;34m(\u001b[0m\u001b[0marray\u001b[0m\u001b[0;34m,\u001b[0m \u001b[0morder\u001b[0m\u001b[0;34m=\u001b[0m\u001b[0morder\u001b[0m\u001b[0;34m,\u001b[0m \u001b[0mdtype\u001b[0m\u001b[0;34m=\u001b[0m\u001b[0mdtype\u001b[0m\u001b[0;34m)\u001b[0m\u001b[0;34m\u001b[0m\u001b[0;34m\u001b[0m\u001b[0m\n\u001b[0m\u001b[1;32m    532\u001b[0m             \u001b[0;32mexcept\u001b[0m \u001b[0mComplexWarning\u001b[0m\u001b[0;34m:\u001b[0m\u001b[0;34m\u001b[0m\u001b[0;34m\u001b[0m\u001b[0m\n\u001b[1;32m    533\u001b[0m                 raise ValueError(\"Complex data not supported\\n\"\n",
            "\u001b[0;32m/usr/local/lib/python3.6/dist-packages/numpy/core/_asarray.py\u001b[0m in \u001b[0;36masarray\u001b[0;34m(a, dtype, order)\u001b[0m\n\u001b[1;32m     83\u001b[0m \u001b[0;34m\u001b[0m\u001b[0m\n\u001b[1;32m     84\u001b[0m     \"\"\"\n\u001b[0;32m---> 85\u001b[0;31m     \u001b[0;32mreturn\u001b[0m \u001b[0marray\u001b[0m\u001b[0;34m(\u001b[0m\u001b[0ma\u001b[0m\u001b[0;34m,\u001b[0m \u001b[0mdtype\u001b[0m\u001b[0;34m,\u001b[0m \u001b[0mcopy\u001b[0m\u001b[0;34m=\u001b[0m\u001b[0;32mFalse\u001b[0m\u001b[0;34m,\u001b[0m \u001b[0morder\u001b[0m\u001b[0;34m=\u001b[0m\u001b[0morder\u001b[0m\u001b[0;34m)\u001b[0m\u001b[0;34m\u001b[0m\u001b[0;34m\u001b[0m\u001b[0m\n\u001b[0m\u001b[1;32m     86\u001b[0m \u001b[0;34m\u001b[0m\u001b[0m\n\u001b[1;32m     87\u001b[0m \u001b[0;34m\u001b[0m\u001b[0m\n",
            "\u001b[0;31mValueError\u001b[0m: could not convert string to float: 'Iris-virginica'"
          ]
        }
      ]
    },
    {
      "cell_type": "markdown",
      "metadata": {
        "colab_type": "text",
        "id": "VKgNC7kzIWNC"
      },
      "source": [
        "### 7.Adaboost\n",
        "\n",
        "**Question 7: Apply Adaboost together with Gridsearch to the Iris dataset and evaluate its accuracy.**"
      ]
    },
    {
      "cell_type": "code",
      "metadata": {
        "id": "fK2n1NPAYiZj",
        "colab_type": "code",
        "colab": {}
      },
      "source": [
        ""
      ],
      "execution_count": 0,
      "outputs": []
    },
    {
      "cell_type": "code",
      "metadata": {
        "colab_type": "code",
        "id": "hDcP-xy_IXFF",
        "colab": {}
      },
      "source": [
        "### TODO \n",
        "#1 Call the class / namespace that implement's scikit learn's RandomForst\n",
        "from sklearn.ensemble import AdaBoostClassifier\n",
        "\n",
        "#Create an instance of the class\n",
        "abc = AdaBoostClassifier()\n",
        "abc_parameters= {\n",
        "    \"n_estimators\": [5,10,15,20,25]\n",
        "    ,\"learning_rate\": [0.05,0.10,0.15,0.20,0.25,0.5,1,1.25,1.5]\n",
        "}\n",
        "\n",
        "abc_grid = GridSearchCV(abc,abc_parameters,cv=3) ##\n",
        "abc_grid.fit(train_x, train_y)\n",
        "\n",
        "# summarize the results of the grid search\n",
        "print(\"The best score is {}\".format(abc_grid.best_score_))\n",
        "print(\"The best hyper parameter setting is {}\".format(abc_grid.best_params_))\n",
        "\n",
        "abc_test_z = abc_grid.predict(test_x)\n",
        "abc_test_z_prob = abc_grid.predict_proba(test_x)[:,1]\n",
        "abc_test_z_prob\n",
        "print(\"model accuracy: {}\".format(accuracy_score(test_y, abc_test_z)))\n",
        "#print(\"model ROC AUC: {}\".format(roc_auc_score(test_y, test_z_prob)))"
      ],
      "execution_count": 0,
      "outputs": []
    },
    {
      "cell_type": "markdown",
      "metadata": {
        "colab_type": "text",
        "id": "tpZFN60NIWdK"
      },
      "source": [
        "### 8.Gradient Boosting\n",
        "\n",
        "**Question 8: Apply Boosting together with Gridsearch to the Iris dataset and evaluate its accuracy.**"
      ]
    },
    {
      "cell_type": "code",
      "metadata": {
        "colab_type": "code",
        "id": "mmRcvEkSIXrR",
        "colab": {}
      },
      "source": [
        "### TODO \n",
        "#1 Call the class / namespace that implement's scikit learn's RandomForst\n",
        "from sklearn.ensemble import GradientBoostingClassifier\n",
        "gb = GradientBoostingClassifier()\n",
        "gb_parameters= {\n",
        "    \"n_estimators\": [5,10,15,20,25]\n",
        "    ,\"learning_rate\": [0.01,0.05,0.10,0.15,0.20]\n",
        "    ,\"subsample\":[0.05,0.10,0.15,0.20,0.25,0.30,0.40,0.45,0.50]\n",
        "}\n",
        "gb_grid = GridSearchCV(gb,gb_parameters,cv=3)\n",
        "gb_grid.fit(train_x,train_y)\n",
        "\n",
        "\n",
        "# Summarize the result of the grid search\n",
        "print(\"the best score is {0}\".format(gb_grid.best_score_ ) )\n",
        "print(\"the best hyper parameters are {0}\".format(gb_grid.best_params_ ))\n"
      ],
      "execution_count": 0,
      "outputs": []
    },
    {
      "cell_type": "markdown",
      "metadata": {
        "colab_type": "text",
        "id": "aTlPSt2Uhs26"
      },
      "source": [
        "---"
      ]
    },
    {
      "cell_type": "markdown",
      "metadata": {
        "colab_type": "text",
        "id": "oyoZxHnxHknE"
      },
      "source": [
        "**BONUS POINT: we will apply the supervised learning models we learnt so far to predict the California housing prices.**"
      ]
    },
    {
      "cell_type": "markdown",
      "metadata": {
        "colab_type": "text",
        "id": "3odrweXdhs28"
      },
      "source": [
        "## Bonus:California Housing Dataset\n",
        "\n",
        "The California Housing dataset appeared in a 1997 paper titled Sparse Spatial Autoregressions by Pace, R. Kelley and Ronald Barry, published in the Statistics and Probability Letters journal. They built it using the 1990 California census data. It contains one row per census block group. A block group is the smallest geographical unit for which the U.S. Census Bureau publishes sample data (a block group typically has a population of 600 to 3,000 people). "
      ]
    },
    {
      "cell_type": "code",
      "metadata": {
        "colab_type": "code",
        "id": "8zXK2RFshs29",
        "colab": {}
      },
      "source": [
        "# Load train and test data from CSV files.\n",
        "chd_train = pd.read_csv('https://raw.githubusercontent.com/zariable/data/master/housing_train.csv')\n",
        "chd_test = pd.read_csv('https://raw.githubusercontent.com/zariable/data/master/housing_test.csv')\n",
        "\n",
        "chd_train_x = chd_train.iloc[:,0:8]\n",
        "chd_train_y = chd_train.iloc[:,8]\n",
        "\n",
        "chd_test_x = chd_test.iloc[:,0:8]\n",
        "chd_test_y = chd_test.iloc[:,8]"
      ],
      "execution_count": 0,
      "outputs": []
    },
    {
      "cell_type": "code",
      "metadata": {
        "colab_type": "code",
        "id": "C-Xv_wdQJob8",
        "outputId": "b27edb65-b848-4225-9231-a42eac713079",
        "colab": {
          "base_uri": "https://localhost:8080/",
          "height": 197
        }
      },
      "source": [
        "# TODO\n",
        "#Understand the test and train dataset\n",
        "chd_train.head()\n",
        "## Looks the dependent parameter to predict here should "
      ],
      "execution_count": 0,
      "outputs": [
        {
          "output_type": "execute_result",
          "data": {
            "text/html": [
              "<div>\n",
              "<style scoped>\n",
              "    .dataframe tbody tr th:only-of-type {\n",
              "        vertical-align: middle;\n",
              "    }\n",
              "\n",
              "    .dataframe tbody tr th {\n",
              "        vertical-align: top;\n",
              "    }\n",
              "\n",
              "    .dataframe thead th {\n",
              "        text-align: right;\n",
              "    }\n",
              "</style>\n",
              "<table border=\"1\" class=\"dataframe\">\n",
              "  <thead>\n",
              "    <tr style=\"text-align: right;\">\n",
              "      <th></th>\n",
              "      <th>longitude</th>\n",
              "      <th>latitude</th>\n",
              "      <th>housing_median_age</th>\n",
              "      <th>total_rooms</th>\n",
              "      <th>total_bedrooms</th>\n",
              "      <th>population</th>\n",
              "      <th>households</th>\n",
              "      <th>median_income</th>\n",
              "      <th>median_house_value</th>\n",
              "    </tr>\n",
              "  </thead>\n",
              "  <tbody>\n",
              "    <tr>\n",
              "      <th>0</th>\n",
              "      <td>-119.79</td>\n",
              "      <td>36.73</td>\n",
              "      <td>52.0</td>\n",
              "      <td>112.0</td>\n",
              "      <td>28.0</td>\n",
              "      <td>193.0</td>\n",
              "      <td>40.0</td>\n",
              "      <td>1.9750</td>\n",
              "      <td>47500.0</td>\n",
              "    </tr>\n",
              "    <tr>\n",
              "      <th>1</th>\n",
              "      <td>-122.21</td>\n",
              "      <td>37.77</td>\n",
              "      <td>43.0</td>\n",
              "      <td>1017.0</td>\n",
              "      <td>328.0</td>\n",
              "      <td>836.0</td>\n",
              "      <td>277.0</td>\n",
              "      <td>2.2604</td>\n",
              "      <td>100000.0</td>\n",
              "    </tr>\n",
              "    <tr>\n",
              "      <th>2</th>\n",
              "      <td>-118.04</td>\n",
              "      <td>33.87</td>\n",
              "      <td>17.0</td>\n",
              "      <td>2358.0</td>\n",
              "      <td>396.0</td>\n",
              "      <td>1387.0</td>\n",
              "      <td>364.0</td>\n",
              "      <td>6.2990</td>\n",
              "      <td>285800.0</td>\n",
              "    </tr>\n",
              "    <tr>\n",
              "      <th>3</th>\n",
              "      <td>-118.28</td>\n",
              "      <td>34.06</td>\n",
              "      <td>17.0</td>\n",
              "      <td>2518.0</td>\n",
              "      <td>1196.0</td>\n",
              "      <td>3051.0</td>\n",
              "      <td>1000.0</td>\n",
              "      <td>1.7199</td>\n",
              "      <td>175000.0</td>\n",
              "    </tr>\n",
              "    <tr>\n",
              "      <th>4</th>\n",
              "      <td>-119.81</td>\n",
              "      <td>36.73</td>\n",
              "      <td>50.0</td>\n",
              "      <td>772.0</td>\n",
              "      <td>194.0</td>\n",
              "      <td>606.0</td>\n",
              "      <td>167.0</td>\n",
              "      <td>2.2206</td>\n",
              "      <td>59200.0</td>\n",
              "    </tr>\n",
              "  </tbody>\n",
              "</table>\n",
              "</div>"
            ],
            "text/plain": [
              "   longitude  latitude  ...  median_income  median_house_value\n",
              "0    -119.79     36.73  ...         1.9750             47500.0\n",
              "1    -122.21     37.77  ...         2.2604            100000.0\n",
              "2    -118.04     33.87  ...         6.2990            285800.0\n",
              "3    -118.28     34.06  ...         1.7199            175000.0\n",
              "4    -119.81     36.73  ...         2.2206             59200.0\n",
              "\n",
              "[5 rows x 9 columns]"
            ]
          },
          "metadata": {
            "tags": []
          },
          "execution_count": 22
        }
      ]
    },
    {
      "cell_type": "code",
      "metadata": {
        "id": "M0GKvFLLl-Xn",
        "colab_type": "code",
        "outputId": "b9b0cb8e-49cf-48e5-addb-3a617c4c3000",
        "colab": {
          "base_uri": "https://localhost:8080/",
          "height": 194
        }
      },
      "source": [
        "chd_test.isnull().sum() ## This looks good\n",
        "chd_test.count()"
      ],
      "execution_count": 0,
      "outputs": [
        {
          "output_type": "execute_result",
          "data": {
            "text/plain": [
              "longitude             6192\n",
              "latitude              6192\n",
              "housing_median_age    6192\n",
              "total_rooms           6192\n",
              "total_bedrooms        6192\n",
              "population            6192\n",
              "households            6192\n",
              "median_income         6192\n",
              "median_house_value    6192\n",
              "dtype: int64"
            ]
          },
          "metadata": {
            "tags": []
          },
          "execution_count": 28
        }
      ]
    },
    {
      "cell_type": "code",
      "metadata": {
        "id": "8r61pHVStMtF",
        "colab_type": "code",
        "outputId": "2103995f-938f-49bd-f459-3db8576c8af7",
        "colab": {
          "base_uri": "https://localhost:8080/",
          "height": 194
        }
      },
      "source": [
        "#checking for nulls\n",
        "chd_train.isnull().sum() ## This looks good\n",
        "chd_train.count() # So 14.5K records + 6.2 k records = 20.7 k records "
      ],
      "execution_count": 0,
      "outputs": [
        {
          "output_type": "execute_result",
          "data": {
            "text/plain": [
              "longitude             14448\n",
              "latitude              14448\n",
              "housing_median_age    14448\n",
              "total_rooms           14448\n",
              "total_bedrooms        14448\n",
              "population            14448\n",
              "households            14448\n",
              "median_income         14448\n",
              "median_house_value    14448\n",
              "dtype: int64"
            ]
          },
          "metadata": {
            "tags": []
          },
          "execution_count": 27
        }
      ]
    },
    {
      "cell_type": "code",
      "metadata": {
        "id": "xPKfXWweuFTF",
        "colab_type": "code",
        "outputId": "6a8a081e-e7c7-4c31-d97d-9efb1b6f1b4c",
        "colab": {
          "base_uri": "https://localhost:8080/",
          "height": 287
        }
      },
      "source": [
        "chd_train.describe()\n",
        "\n",
        "# if we look at the recods from 75% to max columns, the median house value nearly doubles, meadian income triples, population increases nearly 20 times, coun to bedroom increases 10 times. \n",
        "# at least in the traiuning dataset more of sample respondednts belong to high income group\n"
      ],
      "execution_count": 0,
      "outputs": [
        {
          "output_type": "execute_result",
          "data": {
            "text/html": [
              "<div>\n",
              "<style scoped>\n",
              "    .dataframe tbody tr th:only-of-type {\n",
              "        vertical-align: middle;\n",
              "    }\n",
              "\n",
              "    .dataframe tbody tr th {\n",
              "        vertical-align: top;\n",
              "    }\n",
              "\n",
              "    .dataframe thead th {\n",
              "        text-align: right;\n",
              "    }\n",
              "</style>\n",
              "<table border=\"1\" class=\"dataframe\">\n",
              "  <thead>\n",
              "    <tr style=\"text-align: right;\">\n",
              "      <th></th>\n",
              "      <th>longitude</th>\n",
              "      <th>latitude</th>\n",
              "      <th>housing_median_age</th>\n",
              "      <th>total_rooms</th>\n",
              "      <th>total_bedrooms</th>\n",
              "      <th>population</th>\n",
              "      <th>households</th>\n",
              "      <th>median_income</th>\n",
              "      <th>median_house_value</th>\n",
              "    </tr>\n",
              "  </thead>\n",
              "  <tbody>\n",
              "    <tr>\n",
              "      <th>count</th>\n",
              "      <td>14448.000000</td>\n",
              "      <td>14448.000000</td>\n",
              "      <td>14448.000000</td>\n",
              "      <td>14448.000000</td>\n",
              "      <td>14448.000000</td>\n",
              "      <td>14448.000000</td>\n",
              "      <td>14448.000000</td>\n",
              "      <td>14448.000000</td>\n",
              "      <td>14448.000000</td>\n",
              "    </tr>\n",
              "    <tr>\n",
              "      <th>mean</th>\n",
              "      <td>-119.566647</td>\n",
              "      <td>35.630093</td>\n",
              "      <td>28.618702</td>\n",
              "      <td>2640.132683</td>\n",
              "      <td>538.257009</td>\n",
              "      <td>1425.157323</td>\n",
              "      <td>499.508929</td>\n",
              "      <td>3.866667</td>\n",
              "      <td>206824.624516</td>\n",
              "    </tr>\n",
              "    <tr>\n",
              "      <th>std</th>\n",
              "      <td>2.006587</td>\n",
              "      <td>2.140121</td>\n",
              "      <td>12.596694</td>\n",
              "      <td>2191.612441</td>\n",
              "      <td>421.564382</td>\n",
              "      <td>1149.580157</td>\n",
              "      <td>383.098390</td>\n",
              "      <td>1.891158</td>\n",
              "      <td>115365.476182</td>\n",
              "    </tr>\n",
              "    <tr>\n",
              "      <th>min</th>\n",
              "      <td>-124.350000</td>\n",
              "      <td>32.540000</td>\n",
              "      <td>1.000000</td>\n",
              "      <td>2.000000</td>\n",
              "      <td>1.000000</td>\n",
              "      <td>3.000000</td>\n",
              "      <td>1.000000</td>\n",
              "      <td>0.499900</td>\n",
              "      <td>14999.000000</td>\n",
              "    </tr>\n",
              "    <tr>\n",
              "      <th>25%</th>\n",
              "      <td>-121.800000</td>\n",
              "      <td>33.930000</td>\n",
              "      <td>18.000000</td>\n",
              "      <td>1451.000000</td>\n",
              "      <td>296.000000</td>\n",
              "      <td>784.000000</td>\n",
              "      <td>279.000000</td>\n",
              "      <td>2.570600</td>\n",
              "      <td>119600.000000</td>\n",
              "    </tr>\n",
              "    <tr>\n",
              "      <th>50%</th>\n",
              "      <td>-118.490000</td>\n",
              "      <td>34.260000</td>\n",
              "      <td>29.000000</td>\n",
              "      <td>2125.000000</td>\n",
              "      <td>438.000000</td>\n",
              "      <td>1165.000000</td>\n",
              "      <td>410.000000</td>\n",
              "      <td>3.539100</td>\n",
              "      <td>180000.000000</td>\n",
              "    </tr>\n",
              "    <tr>\n",
              "      <th>75%</th>\n",
              "      <td>-118.000000</td>\n",
              "      <td>37.710000</td>\n",
              "      <td>37.000000</td>\n",
              "      <td>3148.000000</td>\n",
              "      <td>645.000000</td>\n",
              "      <td>1724.000000</td>\n",
              "      <td>604.000000</td>\n",
              "      <td>4.736100</td>\n",
              "      <td>263900.000000</td>\n",
              "    </tr>\n",
              "    <tr>\n",
              "      <th>max</th>\n",
              "      <td>-114.310000</td>\n",
              "      <td>41.950000</td>\n",
              "      <td>52.000000</td>\n",
              "      <td>32627.000000</td>\n",
              "      <td>6445.000000</td>\n",
              "      <td>35682.000000</td>\n",
              "      <td>6082.000000</td>\n",
              "      <td>15.000100</td>\n",
              "      <td>500001.000000</td>\n",
              "    </tr>\n",
              "  </tbody>\n",
              "</table>\n",
              "</div>"
            ],
            "text/plain": [
              "          longitude      latitude  ...  median_income  median_house_value\n",
              "count  14448.000000  14448.000000  ...   14448.000000        14448.000000\n",
              "mean    -119.566647     35.630093  ...       3.866667       206824.624516\n",
              "std        2.006587      2.140121  ...       1.891158       115365.476182\n",
              "min     -124.350000     32.540000  ...       0.499900        14999.000000\n",
              "25%     -121.800000     33.930000  ...       2.570600       119600.000000\n",
              "50%     -118.490000     34.260000  ...       3.539100       180000.000000\n",
              "75%     -118.000000     37.710000  ...       4.736100       263900.000000\n",
              "max     -114.310000     41.950000  ...      15.000100       500001.000000\n",
              "\n",
              "[8 rows x 9 columns]"
            ]
          },
          "metadata": {
            "tags": []
          },
          "execution_count": 29
        }
      ]
    },
    {
      "cell_type": "code",
      "metadata": {
        "id": "VvPEXYC1tUsu",
        "colab_type": "code",
        "outputId": "b43ea3f1-013b-4164-9943-b94ceb9c109c",
        "colab": {
          "base_uri": "https://localhost:8080/",
          "height": 265
        }
      },
      "source": [
        "chd_train.info()"
      ],
      "execution_count": 0,
      "outputs": [
        {
          "output_type": "stream",
          "text": [
            "<class 'pandas.core.frame.DataFrame'>\n",
            "RangeIndex: 14448 entries, 0 to 14447\n",
            "Data columns (total 9 columns):\n",
            "longitude             14448 non-null float64\n",
            "latitude              14448 non-null float64\n",
            "housing_median_age    14448 non-null float64\n",
            "total_rooms           14448 non-null float64\n",
            "total_bedrooms        14448 non-null float64\n",
            "population            14448 non-null float64\n",
            "households            14448 non-null float64\n",
            "median_income         14448 non-null float64\n",
            "median_house_value    14448 non-null float64\n",
            "dtypes: float64(9)\n",
            "memory usage: 1016.0 KB\n"
          ],
          "name": "stdout"
        }
      ]
    },
    {
      "cell_type": "code",
      "metadata": {
        "id": "g6jrmQUrtZxz",
        "colab_type": "code",
        "colab": {}
      },
      "source": [
        ""
      ],
      "execution_count": 0,
      "outputs": []
    },
    {
      "cell_type": "markdown",
      "metadata": {
        "colab_type": "text",
        "id": "Q-zitGTxhs3E"
      },
      "source": [
        "### End of Assignment 2\n",
        "---\n"
      ]
    }
  ]
}